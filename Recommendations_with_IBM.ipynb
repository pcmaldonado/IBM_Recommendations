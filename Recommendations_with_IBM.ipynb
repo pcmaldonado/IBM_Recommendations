{
 "cells": [
  {
   "cell_type": "markdown",
   "id": "9e6b75d5",
   "metadata": {},
   "source": [
    "<h1 style=\"text-align:center; padding:2%\"> Recommendations with IBM </h1>\n",
    "\n",
    "\n",
    "<p style=\"text-align:center; padding-bottom:1%\">In this notebook I use the skills learned in the <a href=\"https://www.udacity.com/course/data-scientist-nanodegree--nd025\">Udacity Data Scientist Nanodegree Program</a> to create recommendations based on real data from the IBM Watson Studio platform.</p>"
   ]
  },
  {
   "cell_type": "markdown",
   "id": "87f5b60a",
   "metadata": {},
   "source": [
    "## Table of Contents\n",
    "\n",
    "I. [Exploratory Data Analysis](#Part-1---Exploratory-Data-Analysis) <br>\n",
    "II. [Rank Based Recommendations](#Part-2---Rank-Based-Recommendations)<br>\n",
    "III. [User-User Based Collaborative Filtering](#Part-3---User-User-Based-Collaborative-Filtering)<br>\n",
    "IV. [Content Based Recommendations (EXTRA - NOT REQUIRED)](#Part-4---Content-Based-Recommendations)<br>\n",
    "V. [Matrix Factorization](#Part-5---Matrix-Factorization)<br>\n",
    "<hr>"
   ]
  },
  {
   "cell_type": "markdown",
   "id": "cc762d03",
   "metadata": {},
   "source": [
    "# Setup"
   ]
  },
  {
   "cell_type": "markdown",
   "id": "33734a56",
   "metadata": {},
   "source": [
    "## Import Libraries"
   ]
  },
  {
   "cell_type": "code",
   "execution_count": 1,
   "id": "d6602620",
   "metadata": {},
   "outputs": [],
   "source": [
    "# To handle data\n",
    "import numpy as np \n",
    "import pandas as pd\n",
    "\n",
    "# For visualizations\n",
    "import matplotlib.pyplot as plt\n",
    "import seaborn as sns; sns.set()\n",
    "\n",
    "# For testing (from Udacity)\n",
    "import project_tests as t"
   ]
  },
  {
   "cell_type": "markdown",
   "id": "237e02d1",
   "metadata": {},
   "source": [
    "## Load data"
   ]
  },
  {
   "cell_type": "code",
   "execution_count": 2,
   "id": "36487799",
   "metadata": {},
   "outputs": [],
   "source": [
    "df = pd.read_csv('data/user-item-interactions.csv')\n",
    "df_content = pd.read_csv('data/articles_community.csv')\n",
    "del df['Unnamed: 0']\n",
    "del df_content['Unnamed: 0']"
   ]
  },
  {
   "cell_type": "code",
   "execution_count": 3,
   "id": "ed8611aa",
   "metadata": {},
   "outputs": [
    {
     "name": "stdout",
     "output_type": "stream",
     "text": [
      "(45993, 3)\n"
     ]
    },
    {
     "data": {
      "text/html": [
       "<div>\n",
       "<style scoped>\n",
       "    .dataframe tbody tr th:only-of-type {\n",
       "        vertical-align: middle;\n",
       "    }\n",
       "\n",
       "    .dataframe tbody tr th {\n",
       "        vertical-align: top;\n",
       "    }\n",
       "\n",
       "    .dataframe thead th {\n",
       "        text-align: right;\n",
       "    }\n",
       "</style>\n",
       "<table border=\"1\" class=\"dataframe\">\n",
       "  <thead>\n",
       "    <tr style=\"text-align: right;\">\n",
       "      <th></th>\n",
       "      <th>article_id</th>\n",
       "      <th>title</th>\n",
       "      <th>email</th>\n",
       "    </tr>\n",
       "  </thead>\n",
       "  <tbody>\n",
       "    <tr>\n",
       "      <th>0</th>\n",
       "      <td>1430.0</td>\n",
       "      <td>using pixiedust for fast, flexible, and easier...</td>\n",
       "      <td>ef5f11f77ba020cd36e1105a00ab868bbdbf7fe7</td>\n",
       "    </tr>\n",
       "    <tr>\n",
       "      <th>1</th>\n",
       "      <td>1314.0</td>\n",
       "      <td>healthcare python streaming application demo</td>\n",
       "      <td>083cbdfa93c8444beaa4c5f5e0f5f9198e4f9e0b</td>\n",
       "    </tr>\n",
       "    <tr>\n",
       "      <th>2</th>\n",
       "      <td>1429.0</td>\n",
       "      <td>use deep learning for image classification</td>\n",
       "      <td>b96a4f2e92d8572034b1e9b28f9ac673765cd074</td>\n",
       "    </tr>\n",
       "    <tr>\n",
       "      <th>3</th>\n",
       "      <td>1338.0</td>\n",
       "      <td>ml optimization using cognitive assistant</td>\n",
       "      <td>06485706b34a5c9bf2a0ecdac41daf7e7654ceb7</td>\n",
       "    </tr>\n",
       "    <tr>\n",
       "      <th>4</th>\n",
       "      <td>1276.0</td>\n",
       "      <td>deploy your python model as a restful api</td>\n",
       "      <td>f01220c46fc92c6e6b161b1849de11faacd7ccb2</td>\n",
       "    </tr>\n",
       "  </tbody>\n",
       "</table>\n",
       "</div>"
      ],
      "text/plain": [
       "   article_id                                              title  \\\n",
       "0      1430.0  using pixiedust for fast, flexible, and easier...   \n",
       "1      1314.0       healthcare python streaming application demo   \n",
       "2      1429.0         use deep learning for image classification   \n",
       "3      1338.0          ml optimization using cognitive assistant   \n",
       "4      1276.0          deploy your python model as a restful api   \n",
       "\n",
       "                                      email  \n",
       "0  ef5f11f77ba020cd36e1105a00ab868bbdbf7fe7  \n",
       "1  083cbdfa93c8444beaa4c5f5e0f5f9198e4f9e0b  \n",
       "2  b96a4f2e92d8572034b1e9b28f9ac673765cd074  \n",
       "3  06485706b34a5c9bf2a0ecdac41daf7e7654ceb7  \n",
       "4  f01220c46fc92c6e6b161b1849de11faacd7ccb2  "
      ]
     },
     "execution_count": 3,
     "metadata": {},
     "output_type": "execute_result"
    }
   ],
   "source": [
    "# Show df to get an idea of the data\n",
    "print(df.shape)\n",
    "df.head()"
   ]
  },
  {
   "cell_type": "code",
   "execution_count": 4,
   "id": "9998dfee",
   "metadata": {},
   "outputs": [
    {
     "name": "stdout",
     "output_type": "stream",
     "text": [
      "(1056, 5)\n"
     ]
    },
    {
     "data": {
      "text/html": [
       "<div>\n",
       "<style scoped>\n",
       "    .dataframe tbody tr th:only-of-type {\n",
       "        vertical-align: middle;\n",
       "    }\n",
       "\n",
       "    .dataframe tbody tr th {\n",
       "        vertical-align: top;\n",
       "    }\n",
       "\n",
       "    .dataframe thead th {\n",
       "        text-align: right;\n",
       "    }\n",
       "</style>\n",
       "<table border=\"1\" class=\"dataframe\">\n",
       "  <thead>\n",
       "    <tr style=\"text-align: right;\">\n",
       "      <th></th>\n",
       "      <th>doc_body</th>\n",
       "      <th>doc_description</th>\n",
       "      <th>doc_full_name</th>\n",
       "      <th>doc_status</th>\n",
       "      <th>article_id</th>\n",
       "    </tr>\n",
       "  </thead>\n",
       "  <tbody>\n",
       "    <tr>\n",
       "      <th>0</th>\n",
       "      <td>Skip navigation Sign in SearchLoading...\\r\\n\\r...</td>\n",
       "      <td>Detect bad readings in real time using Python ...</td>\n",
       "      <td>Detect Malfunctioning IoT Sensors with Streami...</td>\n",
       "      <td>Live</td>\n",
       "      <td>0</td>\n",
       "    </tr>\n",
       "    <tr>\n",
       "      <th>1</th>\n",
       "      <td>No Free Hunch Navigation * kaggle.com\\r\\n\\r\\n ...</td>\n",
       "      <td>See the forest, see the trees. Here lies the c...</td>\n",
       "      <td>Communicating data science: A guide to present...</td>\n",
       "      <td>Live</td>\n",
       "      <td>1</td>\n",
       "    </tr>\n",
       "    <tr>\n",
       "      <th>2</th>\n",
       "      <td>☰ * Login\\r\\n * Sign Up\\r\\n\\r\\n * Learning Pat...</td>\n",
       "      <td>Here’s this week’s news in Data Science and Bi...</td>\n",
       "      <td>This Week in Data Science (April 18, 2017)</td>\n",
       "      <td>Live</td>\n",
       "      <td>2</td>\n",
       "    </tr>\n",
       "    <tr>\n",
       "      <th>3</th>\n",
       "      <td>DATALAYER: HIGH THROUGHPUT, LOW LATENCY AT SCA...</td>\n",
       "      <td>Learn how distributed DBs solve the problem of...</td>\n",
       "      <td>DataLayer Conference: Boost the performance of...</td>\n",
       "      <td>Live</td>\n",
       "      <td>3</td>\n",
       "    </tr>\n",
       "    <tr>\n",
       "      <th>4</th>\n",
       "      <td>Skip navigation Sign in SearchLoading...\\r\\n\\r...</td>\n",
       "      <td>This video demonstrates the power of IBM DataS...</td>\n",
       "      <td>Analyze NY Restaurant data using Spark in DSX</td>\n",
       "      <td>Live</td>\n",
       "      <td>4</td>\n",
       "    </tr>\n",
       "  </tbody>\n",
       "</table>\n",
       "</div>"
      ],
      "text/plain": [
       "                                            doc_body  \\\n",
       "0  Skip navigation Sign in SearchLoading...\\r\\n\\r...   \n",
       "1  No Free Hunch Navigation * kaggle.com\\r\\n\\r\\n ...   \n",
       "2  ☰ * Login\\r\\n * Sign Up\\r\\n\\r\\n * Learning Pat...   \n",
       "3  DATALAYER: HIGH THROUGHPUT, LOW LATENCY AT SCA...   \n",
       "4  Skip navigation Sign in SearchLoading...\\r\\n\\r...   \n",
       "\n",
       "                                     doc_description  \\\n",
       "0  Detect bad readings in real time using Python ...   \n",
       "1  See the forest, see the trees. Here lies the c...   \n",
       "2  Here’s this week’s news in Data Science and Bi...   \n",
       "3  Learn how distributed DBs solve the problem of...   \n",
       "4  This video demonstrates the power of IBM DataS...   \n",
       "\n",
       "                                       doc_full_name doc_status  article_id  \n",
       "0  Detect Malfunctioning IoT Sensors with Streami...       Live           0  \n",
       "1  Communicating data science: A guide to present...       Live           1  \n",
       "2         This Week in Data Science (April 18, 2017)       Live           2  \n",
       "3  DataLayer Conference: Boost the performance of...       Live           3  \n",
       "4      Analyze NY Restaurant data using Spark in DSX       Live           4  "
      ]
     },
     "execution_count": 4,
     "metadata": {},
     "output_type": "execute_result"
    }
   ],
   "source": [
    "# Show df_content to get an idea of the data\n",
    "print(df_content.shape)\n",
    "df_content.head()"
   ]
  },
  {
   "cell_type": "markdown",
   "id": "dcfed51c",
   "metadata": {},
   "source": [
    "<hr>"
   ]
  },
  {
   "cell_type": "markdown",
   "id": "9af60a3c",
   "metadata": {},
   "source": [
    "# Part 1 - Exploratory Data Analysis"
   ]
  },
  {
   "cell_type": "markdown",
   "id": "515fcec3",
   "metadata": {},
   "source": [
    "`1. What is the distribution of how many articles a user interacts with in the dataset?`"
   ]
  },
  {
   "cell_type": "code",
   "execution_count": 5,
   "id": "3e05c573",
   "metadata": {},
   "outputs": [
    {
     "data": {
      "text/plain": [
       "count    5148.000000\n",
       "mean        8.930847\n",
       "std        16.802267\n",
       "min         1.000000\n",
       "25%         1.000000\n",
       "50%         3.000000\n",
       "75%         9.000000\n",
       "max       364.000000\n",
       "Name: article_id, dtype: float64"
      ]
     },
     "execution_count": 5,
     "metadata": {},
     "output_type": "execute_result"
    }
   ],
   "source": [
    "# count number of articles by user\n",
    "reads_per_user = df.groupby('email').count()['article_id']\n",
    "\n",
    "# show descriptive statistics\n",
    "reads_per_user.describe()"
   ]
  },
  {
   "cell_type": "code",
   "execution_count": 6,
   "id": "060c380f",
   "metadata": {},
   "outputs": [
    {
     "data": {
      "image/png": "[encoded data removed]",
      "text/plain": [
       "<Figure size 720x360 with 1 Axes>"
      ]
     },
     "metadata": {},
     "output_type": "display_data"
    }
   ],
   "source": [
    "# Central tendencies\n",
    "median_views = reads_per_user.median()\n",
    "mean_views = reads_per_user.mean()\n",
    "max_views_by_user = reads_per_user.max()\n",
    "\n",
    "# Plot\n",
    "sns.displot(reads_per_user, aspect=2, bins=50)\n",
    "\n",
    "plt.axvline(x=median_views, ymin=0, ymax=2500, color='k', label='median')\n",
    "plt.annotate(xy=(median_views, 2000), text=f'Median: {median_views:.1f}', color='k');\n",
    "\n",
    "plt.axvline(x=mean_views, ymin=0, ymax=2500, color='r', label='mean')\n",
    "plt.annotate(xy=(mean_views, 3000), text=f'Mean: {mean_views:.2f}', color='r');\n",
    "\n",
    "plt.title('User-Articles Interactions Distribution', weight='bold', size=17)\n",
    "plt.ylabel('Number of users')\n",
    "plt.xlabel('Number of articles read')\n",
    "plt.legend()\n",
    "plt.show()"
   ]
  },
  {
   "cell_type": "code",
   "execution_count": 7,
   "id": "b3ce7d25",
   "metadata": {},
   "outputs": [
    {
     "name": "stdout",
     "output_type": "stream",
     "text": [
      "50% of individuals interact with 3.0 number of articles or fewer.\n",
      "The maximum number of user-article interactions by any 1 user is 364.\n"
     ]
    }
   ],
   "source": [
    "# Fill in the median and maximum number of user_article interactios below\n",
    "print(f'50% of individuals interact with {median_views} number of articles or fewer.')\n",
    "print(f'The maximum number of user-article interactions by any 1 user is {max_views_by_user}.')"
   ]
  },
  {
   "cell_type": "markdown",
   "id": "a2a0d669",
   "metadata": {},
   "source": [
    "<br>\n",
    "\n",
    "`2. Explore and remove duplicate articles from the df_content dataframe.`"
   ]
  },
  {
   "cell_type": "code",
   "execution_count": 8,
   "id": "38ef892d",
   "metadata": {},
   "outputs": [
    {
     "data": {
      "text/plain": [
       "False"
      ]
     },
     "execution_count": 8,
     "metadata": {},
     "output_type": "execute_result"
    }
   ],
   "source": [
    "# Check if there are duplicated articles (False if there are duplicates)\n",
    "df_content.article_id.nunique() == df_content.shape[0]"
   ]
  },
  {
   "cell_type": "code",
   "execution_count": 9,
   "id": "d4ffc4bd",
   "metadata": {},
   "outputs": [
    {
     "data": {
      "text/html": [
       "<div>\n",
       "<style scoped>\n",
       "    .dataframe tbody tr th:only-of-type {\n",
       "        vertical-align: middle;\n",
       "    }\n",
       "\n",
       "    .dataframe tbody tr th {\n",
       "        vertical-align: top;\n",
       "    }\n",
       "\n",
       "    .dataframe thead th {\n",
       "        text-align: right;\n",
       "    }\n",
       "</style>\n",
       "<table border=\"1\" class=\"dataframe\">\n",
       "  <thead>\n",
       "    <tr style=\"text-align: right;\">\n",
       "      <th></th>\n",
       "      <th>doc_body</th>\n",
       "      <th>doc_description</th>\n",
       "      <th>doc_full_name</th>\n",
       "      <th>doc_status</th>\n",
       "      <th>article_id</th>\n",
       "    </tr>\n",
       "  </thead>\n",
       "  <tbody>\n",
       "    <tr>\n",
       "      <th>50</th>\n",
       "      <td>Follow Sign in / Sign up Home About Insight Da...</td>\n",
       "      <td>Community Detection at Scale</td>\n",
       "      <td>Graph-based machine learning</td>\n",
       "      <td>Live</td>\n",
       "      <td>50</td>\n",
       "    </tr>\n",
       "    <tr>\n",
       "      <th>365</th>\n",
       "      <td>Follow Sign in / Sign up Home About Insight Da...</td>\n",
       "      <td>During the seven-week Insight Data Engineering...</td>\n",
       "      <td>Graph-based machine learning</td>\n",
       "      <td>Live</td>\n",
       "      <td>50</td>\n",
       "    </tr>\n",
       "    <tr>\n",
       "      <th>221</th>\n",
       "      <td>* United States\\r\\n\\r\\nIBM® * Site map\\r\\n\\r\\n...</td>\n",
       "      <td>When used to make sense of huge amounts of con...</td>\n",
       "      <td>How smart catalogs can turn the big data flood...</td>\n",
       "      <td>Live</td>\n",
       "      <td>221</td>\n",
       "    </tr>\n",
       "    <tr>\n",
       "      <th>692</th>\n",
       "      <td>Homepage Follow Sign in / Sign up Homepage * H...</td>\n",
       "      <td>One of the earliest documented catalogs was co...</td>\n",
       "      <td>How smart catalogs can turn the big data flood...</td>\n",
       "      <td>Live</td>\n",
       "      <td>221</td>\n",
       "    </tr>\n",
       "    <tr>\n",
       "      <th>232</th>\n",
       "      <td>Homepage Follow Sign in Get started Homepage *...</td>\n",
       "      <td>If you are like most data scientists, you are ...</td>\n",
       "      <td>Self-service data preparation with IBM Data Re...</td>\n",
       "      <td>Live</td>\n",
       "      <td>232</td>\n",
       "    </tr>\n",
       "    <tr>\n",
       "      <th>971</th>\n",
       "      <td>Homepage Follow Sign in Get started * Home\\r\\n...</td>\n",
       "      <td>If you are like most data scientists, you are ...</td>\n",
       "      <td>Self-service data preparation with IBM Data Re...</td>\n",
       "      <td>Live</td>\n",
       "      <td>232</td>\n",
       "    </tr>\n",
       "    <tr>\n",
       "      <th>399</th>\n",
       "      <td>Homepage Follow Sign in Get started * Home\\r\\n...</td>\n",
       "      <td>Today’s world of data science leverages data f...</td>\n",
       "      <td>Using Apache Spark as a parallel processing fr...</td>\n",
       "      <td>Live</td>\n",
       "      <td>398</td>\n",
       "    </tr>\n",
       "    <tr>\n",
       "      <th>761</th>\n",
       "      <td>Homepage Follow Sign in Get started Homepage *...</td>\n",
       "      <td>Today’s world of data science leverages data f...</td>\n",
       "      <td>Using Apache Spark as a parallel processing fr...</td>\n",
       "      <td>Live</td>\n",
       "      <td>398</td>\n",
       "    </tr>\n",
       "    <tr>\n",
       "      <th>578</th>\n",
       "      <td>This video shows you how to construct queries ...</td>\n",
       "      <td>This video shows you how to construct queries ...</td>\n",
       "      <td>Use the Primary Index</td>\n",
       "      <td>Live</td>\n",
       "      <td>577</td>\n",
       "    </tr>\n",
       "    <tr>\n",
       "      <th>970</th>\n",
       "      <td>This video shows you how to construct queries ...</td>\n",
       "      <td>This video shows you how to construct queries ...</td>\n",
       "      <td>Use the Primary Index</td>\n",
       "      <td>Live</td>\n",
       "      <td>577</td>\n",
       "    </tr>\n",
       "  </tbody>\n",
       "</table>\n",
       "</div>"
      ],
      "text/plain": [
       "                                              doc_body  \\\n",
       "50   Follow Sign in / Sign up Home About Insight Da...   \n",
       "365  Follow Sign in / Sign up Home About Insight Da...   \n",
       "221  * United States\\r\\n\\r\\nIBM® * Site map\\r\\n\\r\\n...   \n",
       "692  Homepage Follow Sign in / Sign up Homepage * H...   \n",
       "232  Homepage Follow Sign in Get started Homepage *...   \n",
       "971  Homepage Follow Sign in Get started * Home\\r\\n...   \n",
       "399  Homepage Follow Sign in Get started * Home\\r\\n...   \n",
       "761  Homepage Follow Sign in Get started Homepage *...   \n",
       "578  This video shows you how to construct queries ...   \n",
       "970  This video shows you how to construct queries ...   \n",
       "\n",
       "                                       doc_description  \\\n",
       "50                        Community Detection at Scale   \n",
       "365  During the seven-week Insight Data Engineering...   \n",
       "221  When used to make sense of huge amounts of con...   \n",
       "692  One of the earliest documented catalogs was co...   \n",
       "232  If you are like most data scientists, you are ...   \n",
       "971  If you are like most data scientists, you are ...   \n",
       "399  Today’s world of data science leverages data f...   \n",
       "761  Today’s world of data science leverages data f...   \n",
       "578  This video shows you how to construct queries ...   \n",
       "970  This video shows you how to construct queries ...   \n",
       "\n",
       "                                         doc_full_name doc_status  article_id  \n",
       "50                        Graph-based machine learning       Live          50  \n",
       "365                       Graph-based machine learning       Live          50  \n",
       "221  How smart catalogs can turn the big data flood...       Live         221  \n",
       "692  How smart catalogs can turn the big data flood...       Live         221  \n",
       "232  Self-service data preparation with IBM Data Re...       Live         232  \n",
       "971  Self-service data preparation with IBM Data Re...       Live         232  \n",
       "399  Using Apache Spark as a parallel processing fr...       Live         398  \n",
       "761  Using Apache Spark as a parallel processing fr...       Live         398  \n",
       "578                              Use the Primary Index       Live         577  \n",
       "970                              Use the Primary Index       Live         577  "
      ]
     },
     "execution_count": 9,
     "metadata": {},
     "output_type": "execute_result"
    }
   ],
   "source": [
    "# Find and explore duplicate articles\n",
    "df_content[df_content.article_id.duplicated(keep=False)].sort_values(by='article_id')"
   ]
  },
  {
   "cell_type": "code",
   "execution_count": 10,
   "id": "48deecdf",
   "metadata": {},
   "outputs": [
    {
     "data": {
      "text/plain": [
       "True"
      ]
     },
     "execution_count": 10,
     "metadata": {},
     "output_type": "execute_result"
    }
   ],
   "source": [
    "# Remove any rows that have the same article_id - only keep the first\n",
    "df_content = df_content.drop_duplicates(subset='article_id', keep='first')\n",
    "\n",
    "# Check results (True if there are no duplicates)\n",
    "df_content.article_id.nunique() == df_content.shape[0]"
   ]
  },
  {
   "cell_type": "markdown",
   "id": "05cc15c9",
   "metadata": {},
   "source": [
    "<br>\n",
    "\n",
    "`3. User-Articles Interactions:`"
   ]
  },
  {
   "cell_type": "code",
   "execution_count": 11,
   "id": "f4ddafe6",
   "metadata": {},
   "outputs": [
    {
     "name": "stdout",
     "output_type": "stream",
     "text": [
      "a. The number of unique articles that have an interaction with a user: 714\n",
      "b. The number of unique articles in the dataset (whether they have any interactions or not): 1051\n",
      "c. The number of unique users in the dataset (excluding null values): 5148\n",
      "d. The number of user-article interactions in the dataset: 45993\n"
     ]
    }
   ],
   "source": [
    "unique_articles = df.article_id.nunique()\n",
    "total_articles = df_content.article_id.nunique()\n",
    "unique_users = df.email.nunique()\n",
    "user_article_interactions = df.shape[0]\n",
    "\n",
    "print('a. The number of unique articles that have an interaction with a user:', unique_articles)\n",
    "print('b. The number of unique articles in the dataset (whether they have any interactions or not):', total_articles)\n",
    "print('c. The number of unique users in the dataset (excluding null values):', unique_users)\n",
    "print('d. The number of user-article interactions in the dataset:', user_article_interactions)"
   ]
  },
  {
   "cell_type": "markdown",
   "id": "c11d5f54",
   "metadata": {},
   "source": [
    "<br>\n",
    "\n",
    "`4. Most viewed **article_id**, as well as how often it was viewed. `"
   ]
  },
  {
   "cell_type": "code",
   "execution_count": 12,
   "id": "bc819f68",
   "metadata": {},
   "outputs": [],
   "source": [
    "# The most viewed article in the dataset as a string with one value following the decimal \n",
    "most_viewed_article_id = str(df.article_id.value_counts().head(1).index[0])\n",
    "\n",
    "# The most viewed article in the dataset was viewed how many times?\n",
    "max_views = df.article_id.value_counts().head(1).values[0]"
   ]
  },
  {
   "cell_type": "markdown",
   "id": "3a1948fa",
   "metadata": {},
   "source": [
    "After talking to the company leaders, the `email_mapper` function was deemed a reasonable way to map users to ids.  There were a small number of null values, and it was found that all of these null values likely belonged to a single user (which is how they are stored using the function below)."
   ]
  },
  {
   "cell_type": "code",
   "execution_count": 13,
   "id": "32a0617a",
   "metadata": {},
   "outputs": [
    {
     "data": {
      "text/html": [
       "<div>\n",
       "<style scoped>\n",
       "    .dataframe tbody tr th:only-of-type {\n",
       "        vertical-align: middle;\n",
       "    }\n",
       "\n",
       "    .dataframe tbody tr th {\n",
       "        vertical-align: top;\n",
       "    }\n",
       "\n",
       "    .dataframe thead th {\n",
       "        text-align: right;\n",
       "    }\n",
       "</style>\n",
       "<table border=\"1\" class=\"dataframe\">\n",
       "  <thead>\n",
       "    <tr style=\"text-align: right;\">\n",
       "      <th></th>\n",
       "      <th>article_id</th>\n",
       "      <th>title</th>\n",
       "      <th>user_id</th>\n",
       "    </tr>\n",
       "  </thead>\n",
       "  <tbody>\n",
       "    <tr>\n",
       "      <th>0</th>\n",
       "      <td>1430.0</td>\n",
       "      <td>using pixiedust for fast, flexible, and easier...</td>\n",
       "      <td>1</td>\n",
       "    </tr>\n",
       "    <tr>\n",
       "      <th>1</th>\n",
       "      <td>1314.0</td>\n",
       "      <td>healthcare python streaming application demo</td>\n",
       "      <td>2</td>\n",
       "    </tr>\n",
       "    <tr>\n",
       "      <th>2</th>\n",
       "      <td>1429.0</td>\n",
       "      <td>use deep learning for image classification</td>\n",
       "      <td>3</td>\n",
       "    </tr>\n",
       "    <tr>\n",
       "      <th>3</th>\n",
       "      <td>1338.0</td>\n",
       "      <td>ml optimization using cognitive assistant</td>\n",
       "      <td>4</td>\n",
       "    </tr>\n",
       "    <tr>\n",
       "      <th>4</th>\n",
       "      <td>1276.0</td>\n",
       "      <td>deploy your python model as a restful api</td>\n",
       "      <td>5</td>\n",
       "    </tr>\n",
       "  </tbody>\n",
       "</table>\n",
       "</div>"
      ],
      "text/plain": [
       "   article_id                                              title  user_id\n",
       "0      1430.0  using pixiedust for fast, flexible, and easier...        1\n",
       "1      1314.0       healthcare python streaming application demo        2\n",
       "2      1429.0         use deep learning for image classification        3\n",
       "3      1338.0          ml optimization using cognitive assistant        4\n",
       "4      1276.0          deploy your python model as a restful api        5"
      ]
     },
     "execution_count": 13,
     "metadata": {},
     "output_type": "execute_result"
    }
   ],
   "source": [
    "# Run this cell to map the user email to a user_id column and remove the email column\n",
    "\n",
    "def email_mapper():\n",
    "    coded_dict = dict()\n",
    "    cter = 1\n",
    "    email_encoded = []\n",
    "    \n",
    "    for val in df['email']:\n",
    "        if val not in coded_dict:\n",
    "            coded_dict[val] = cter\n",
    "            cter+=1\n",
    "        \n",
    "        email_encoded.append(coded_dict[val])\n",
    "    return email_encoded\n",
    "\n",
    "email_encoded = email_mapper()\n",
    "del df['email']\n",
    "df['user_id'] = email_encoded\n",
    "\n",
    "# show header\n",
    "df.head()"
   ]
  },
  {
   "cell_type": "markdown",
   "id": "a407cc3e",
   "metadata": {},
   "source": [
    "### Test"
   ]
  },
  {
   "cell_type": "code",
   "execution_count": 14,
   "id": "d89d5e0f",
   "metadata": {},
   "outputs": [
    {
     "name": "stdout",
     "output_type": "stream",
     "text": [
      "It looks like you have everything right here! Nice job!\n"
     ]
    }
   ],
   "source": [
    "sol_1_dict = {\n",
    "    '`50% of individuals have _____ or fewer interactions.`': median_views,\n",
    "    '`The total number of user-article interactions in the dataset is ______.`': user_article_interactions,\n",
    "    '`The maximum number of user-article interactions by any 1 user is ______.`': max_views_by_user,\n",
    "    '`The most viewed article in the dataset was viewed _____ times.`': max_views,\n",
    "    '`The article_id of the most viewed article is ______.`': most_viewed_article_id,\n",
    "    '`The number of unique articles that have at least 1 rating ______.`': unique_articles,\n",
    "    '`The number of unique users in the dataset is ______`': unique_users,\n",
    "    '`The number of unique articles on the IBM platform`': total_articles\n",
    "}\n",
    "\n",
    "# Test your dictionary against the solution\n",
    "t.sol_1_test(sol_1_dict)"
   ]
  },
  {
   "cell_type": "markdown",
   "id": "615576a3",
   "metadata": {},
   "source": [
    "<hr>"
   ]
  },
  {
   "cell_type": "markdown",
   "id": "43f91001",
   "metadata": {},
   "source": [
    "# Part 2 - Rank-Based Recommendations\n",
    "We don't actually have ratings for whether a user liked an article or not.  We only know that a user has interacted with an article. In cases like these, the popularity of an article can really only be based on how often an article was interacted with."
   ]
  },
  {
   "cell_type": "markdown",
   "id": "ffb00391",
   "metadata": {},
   "source": [
    "`1. Write a function to return the 'n' top articles ordered with most interactions as the top.`"
   ]
  },
  {
   "cell_type": "code",
   "execution_count": 15,
   "id": "a81c4b8e",
   "metadata": {},
   "outputs": [],
   "source": [
    "def get_top_articles(n, df=df):\n",
    "    \"\"\"Returns the *n* top articles \n",
    "    Arguments:\n",
    "        n - (int) number of top articles to return\n",
    "        df - (pandas dataframe) df with necessary input data\n",
    "    Returns:\n",
    "        top_articles - (list) a list with the top 'n' articles titles\"\"\"\n",
    "    \n",
    "    # Count number of users by article title and select top 'n'\n",
    "    top_articles = list(df.groupby('title').count()['user_id'].sort_values(ascending=False).index[:n])\n",
    "\n",
    "    return top_articles\n",
    "\n",
    "def get_top_articles_ids(n, df=df):\n",
    "    \"\"\"Returns the *n* top articles ids\n",
    "    Arguments:\n",
    "        n - (int) number of top articles to return\n",
    "        df - (pandas dataframe) df with necessary input data\n",
    "    Returns:\n",
    "        top_articles - (list) a list with the top 'n' articles titles\"\"\"\n",
    "    \n",
    "    # Count number of users by article article_id and select top 'n'\n",
    "    top_articles_ids = list(df.groupby('article_id').count()['user_id'].sort_values(ascending=False).index[:n])\n",
    "\n",
    "    return top_articles_ids"
   ]
  },
  {
   "cell_type": "code",
   "execution_count": 16,
   "id": "63b0cffd",
   "metadata": {},
   "outputs": [
    {
     "name": "stdout",
     "output_type": "stream",
     "text": [
      "Top 10 articles:\n",
      " ['use deep learning for image classification', 'insights from new york car accident reports', 'visualize car data with brunel', 'use xgboost, scikit-learn & ibm watson machine learning apis', 'predicting churn with the spss random tree algorithm', 'healthcare python streaming application demo', 'finding optimal locations of new store using decision optimization', 'apache spark lab, part 1: basic concepts', 'analyze energy consumption in buildings', 'gosales transactions for logistic regression model']\n",
      "\n",
      "Top 10 articles ids:\n",
      " [1429.0, 1330.0, 1431.0, 1427.0, 1364.0, 1314.0, 1293.0, 1170.0, 1162.0, 1304.0]\n"
     ]
    }
   ],
   "source": [
    "# Checking functions\n",
    "n = 10\n",
    "print(f'Top {n} articles:\\n', get_top_articles(n))\n",
    "print(f'\\nTop {n} articles ids:\\n', get_top_articles_ids(n))"
   ]
  },
  {
   "cell_type": "markdown",
   "id": "5d52015f",
   "metadata": {},
   "source": [
    "### Test"
   ]
  },
  {
   "cell_type": "code",
   "execution_count": 17,
   "id": "d7397b82",
   "metadata": {},
   "outputs": [
    {
     "name": "stdout",
     "output_type": "stream",
     "text": [
      "Your top_5 looks like the solution list! Nice job.\n",
      "Your top_10 looks like the solution list! Nice job.\n",
      "Your top_20 looks like the solution list! Nice job.\n"
     ]
    }
   ],
   "source": [
    "# Test function by returning the top 5, 10, and 20 articles\n",
    "top_5 = get_top_articles(5)\n",
    "top_10 = get_top_articles(10)\n",
    "top_20 = get_top_articles(20)\n",
    "\n",
    "# Test each of your three lists from above\n",
    "t.sol_2_test(get_top_articles)"
   ]
  },
  {
   "cell_type": "markdown",
   "id": "7634c408",
   "metadata": {},
   "source": [
    "<hr>"
   ]
  },
  {
   "cell_type": "markdown",
   "id": "3208b12b",
   "metadata": {},
   "source": [
    "# Part 3 - User-User Based Collaborative Filtering"
   ]
  },
  {
   "cell_type": "markdown",
   "id": "d3bdb5c1",
   "metadata": {},
   "source": [
    "`1. Create a User-Item Matrix`\n",
    "* Each **user** should only appear in each **row** once.\n",
    "\n",
    "* Each **article** should only show up in one **column**.  \n",
    "\n",
    "* **If a user has interacted with an article, then place a 1 where the user-row meets for that article-column**.  It does not matter how many times a user has interacted with the article, all entries where a user has interacted with an article should be a 1.  \n",
    "\n",
    "* **If a user has not interacted with an item, then place a zero where the user-row meets for that article-column**. "
   ]
  },
  {
   "cell_type": "code",
   "execution_count": 18,
   "id": "2c4f298d",
   "metadata": {},
   "outputs": [
    {
     "name": "stdout",
     "output_type": "stream",
     "text": [
      "(45993, 3)\n"
     ]
    },
    {
     "data": {
      "text/html": [
       "<div>\n",
       "<style scoped>\n",
       "    .dataframe tbody tr th:only-of-type {\n",
       "        vertical-align: middle;\n",
       "    }\n",
       "\n",
       "    .dataframe tbody tr th {\n",
       "        vertical-align: top;\n",
       "    }\n",
       "\n",
       "    .dataframe thead th {\n",
       "        text-align: right;\n",
       "    }\n",
       "</style>\n",
       "<table border=\"1\" class=\"dataframe\">\n",
       "  <thead>\n",
       "    <tr style=\"text-align: right;\">\n",
       "      <th></th>\n",
       "      <th>article_id</th>\n",
       "      <th>title</th>\n",
       "      <th>user_id</th>\n",
       "    </tr>\n",
       "  </thead>\n",
       "  <tbody>\n",
       "    <tr>\n",
       "      <th>0</th>\n",
       "      <td>1430.0</td>\n",
       "      <td>using pixiedust for fast, flexible, and easier...</td>\n",
       "      <td>1</td>\n",
       "    </tr>\n",
       "    <tr>\n",
       "      <th>1</th>\n",
       "      <td>1314.0</td>\n",
       "      <td>healthcare python streaming application demo</td>\n",
       "      <td>2</td>\n",
       "    </tr>\n",
       "    <tr>\n",
       "      <th>2</th>\n",
       "      <td>1429.0</td>\n",
       "      <td>use deep learning for image classification</td>\n",
       "      <td>3</td>\n",
       "    </tr>\n",
       "    <tr>\n",
       "      <th>3</th>\n",
       "      <td>1338.0</td>\n",
       "      <td>ml optimization using cognitive assistant</td>\n",
       "      <td>4</td>\n",
       "    </tr>\n",
       "    <tr>\n",
       "      <th>4</th>\n",
       "      <td>1276.0</td>\n",
       "      <td>deploy your python model as a restful api</td>\n",
       "      <td>5</td>\n",
       "    </tr>\n",
       "  </tbody>\n",
       "</table>\n",
       "</div>"
      ],
      "text/plain": [
       "   article_id                                              title  user_id\n",
       "0      1430.0  using pixiedust for fast, flexible, and easier...        1\n",
       "1      1314.0       healthcare python streaming application demo        2\n",
       "2      1429.0         use deep learning for image classification        3\n",
       "3      1338.0          ml optimization using cognitive assistant        4\n",
       "4      1276.0          deploy your python model as a restful api        5"
      ]
     },
     "execution_count": 18,
     "metadata": {},
     "output_type": "execute_result"
    }
   ],
   "source": [
    "print(df.shape)\n",
    "df.head()"
   ]
  },
  {
   "cell_type": "code",
   "execution_count": 19,
   "id": "17e64876",
   "metadata": {},
   "outputs": [],
   "source": [
    "def create_user_item_matrix(df):\n",
    "    \"\"\"Create a user item matrix with users as rows and articles as the columns\n",
    "    and 1 values if a user has interacted with the article and 0 otherwise\n",
    "    Arguments:\n",
    "        df - (pandas dataframe) input data containing article_id, title, user_id columns\n",
    "    Returns:\n",
    "        user_item - (np.array) user item matrix\"\"\"\n",
    "    \n",
    "    # Create an extra column to show whether or not an user interacts with an article\n",
    "    # In this case, all articles in this dataset are expected to have at least one interaction\n",
    "    df = df.copy()\n",
    "    df['interactions'] = 1\n",
    "    \n",
    "    # Create the user item matrix and fill nan with 0\n",
    "    user_item = df.groupby(['user_id','article_id'])['interactions'].max().unstack().fillna(0)\n",
    "    \n",
    "    return user_item"
   ]
  },
  {
   "cell_type": "code",
   "execution_count": 20,
   "id": "d1eaa574",
   "metadata": {},
   "outputs": [],
   "source": [
    "user_item = create_user_item_matrix(df)"
   ]
  },
  {
   "cell_type": "markdown",
   "id": "6a304ecc",
   "metadata": {},
   "source": [
    "### Test"
   ]
  },
  {
   "cell_type": "code",
   "execution_count": 21,
   "id": "e85d0051",
   "metadata": {},
   "outputs": [
    {
     "name": "stdout",
     "output_type": "stream",
     "text": [
      "You have passed our quick tests!  Please proceed!\n"
     ]
    }
   ],
   "source": [
    "## Tests: You should just need to run this cell.  Don't change the code.\n",
    "assert user_item.shape[0] == 5149, \"Oops!  The number of users in the user-article matrix doesn't look right.\"\n",
    "assert user_item.shape[1] == 714, \"Oops!  The number of articles in the user-article matrix doesn't look right.\"\n",
    "assert user_item.sum(axis=1)[1] == 36, \"Oops!  The number of articles seen by user 1 doesn't look right.\"\n",
    "print(\"You have passed our quick tests!  Please proceed!\")"
   ]
  },
  {
   "cell_type": "markdown",
   "id": "82a688a6",
   "metadata": {},
   "source": [
    "<br>\n",
    "\n",
    "`2. Find similar users`\n",
    "\n",
    "Complete the function below which should take a user_id and provide an ordered list of the most similar users to that user (from most similar to least similar).  The returned result should not contain the provided user_id, as we know that each user is similar to him/herself. \n",
    "\n",
    "Because the results for each user here are binary, it (perhaps) makes sense to compute similarity as the dot product of two users. \n",
    "\n",
    "Use the tests to test your function."
   ]
  },
  {
   "cell_type": "code",
   "execution_count": 22,
   "id": "789392ad",
   "metadata": {},
   "outputs": [],
   "source": [
    "def find_similar_users(user_id, user_item=user_item):\n",
    "    \"\"\"Computes the similarity of every pair of users based on their dot product\n",
    "    Arguments:\n",
    "        user_id - (int) a user id\n",
    "        user_item - (pandas dataframe) matrix of users by articles:\n",
    "                    1's when a user has interacted with an article, 0 otherwise\n",
    "    Returns:\n",
    "        similar_users - (list) an ordered list where the closest users are listed first\n",
    "    \"\"\"\n",
    "    # compute similarity between users using dot product\n",
    "    similarity = user_item.dot(user_item.T)\n",
    "    \n",
    "    # Get similar users to the provided user ('user_id')\n",
    "    similarity_user_id = similarity[user_id]\n",
    "    \n",
    "    # sort by similarity & create list of just the ids\n",
    "    most_similar_users = list(similarity_user_id.sort_values(ascending=False).index)\n",
    "    \n",
    "    # remove the own user's id\n",
    "    most_similar_users.remove(user_id)\n",
    "       \n",
    "    return most_similar_users # return a list of the users in order from most to least similar"
   ]
  },
  {
   "cell_type": "code",
   "execution_count": 23,
   "id": "35f1c922",
   "metadata": {},
   "outputs": [
    {
     "name": "stdout",
     "output_type": "stream",
     "text": [
      "The 10 most similar users to user 1 are: [3933, 23, 3782, 203, 4459, 3870, 131, 4201, 46, 5041]\n",
      "The 5 most similar users to user 3933 are: [1, 23, 3782, 203, 4459]\n",
      "The 3 most similar users to user 46 are: [4201, 3782, 23]\n"
     ]
    }
   ],
   "source": [
    "# Do a spot check of your function\n",
    "print(\"The 10 most similar users to user 1 are: {}\".format(find_similar_users(1)[:10]))\n",
    "print(\"The 5 most similar users to user 3933 are: {}\".format(find_similar_users(3933)[:5]))\n",
    "print(\"The 3 most similar users to user 46 are: {}\".format(find_similar_users(46)[:3]))"
   ]
  },
  {
   "cell_type": "markdown",
   "id": "d822bd80",
   "metadata": {},
   "source": [
    "<br>\n",
    "\n",
    "`3. Find articles to recommend using similarity between users` "
   ]
  },
  {
   "cell_type": "code",
   "execution_count": 24,
   "id": "defd1991",
   "metadata": {},
   "outputs": [],
   "source": [
    "def get_article_names(article_ids, df=df):\n",
    "    \"\"\"Get article name based on article id\n",
    "    Arguments:\n",
    "        article_ids - (list) a list of article ids in string format ('1024.0')\n",
    "        df - (pandas dataframe) df containing information about articles and users\n",
    "    Returns:\n",
    "        articles_names - (list) a list of article titles associated with the list of article ids\"\"\"\n",
    "    \n",
    "    # Cast article ids to floats to match dtype in dataframe\n",
    "    articles_ids = [float(id_) for id_ in article_ids]\n",
    "    # Create a set list with article names\n",
    "    articles_names = list(set(df[df.article_id.isin(articles_ids)].title))\n",
    "    \n",
    "    return articles_names"
   ]
  },
  {
   "cell_type": "code",
   "execution_count": 25,
   "id": "14a44ab6",
   "metadata": {},
   "outputs": [],
   "source": [
    "def get_user_articles(user_id, user_item=user_item):\n",
    "    \"\"\"Provide a list of the article ids and article titles seen by a given user\n",
    "    Arguments:\n",
    "        user_id - (int) user id\n",
    "        user_item - (pandas dataframe) matrix of user-articles interactions\n",
    "    Returns:\n",
    "        articles_ids - (list) list of article ids seen by the user in str format\n",
    "        articles_names - (list) list of article titles seen by the user\n",
    "    \"\"\"\n",
    "    \n",
    "    # Find articles read by the user & cast to str\n",
    "    articles = user_item[(user_item.index == user_id)].iloc[0]\n",
    "    articles_ids = list(articles[articles.isin([1])].index)\n",
    "    articles_ids = [str(id_) for id_ in articles_ids]\n",
    "    \n",
    "    # Find articles' name\n",
    "    articles_names = get_article_names(articles_ids)\n",
    "    \n",
    "    return articles_ids, articles_names"
   ]
  },
  {
   "cell_type": "code",
   "execution_count": 26,
   "id": "e94b25c3",
   "metadata": {},
   "outputs": [],
   "source": [
    "def user_user_recs(user_id, m=10):\n",
    "    \"\"\"Recommends 'm' articles to 'user_id' that they have not seen,\n",
    "    based on the similiary with other users and the articles they have read\n",
    "    Arguments:\n",
    "        user_id - (int) user id\n",
    "        m - (int) number of recommendations for the user\n",
    "    Returns:\n",
    "        recs - (list) list of recommendations for the user\"\"\"\n",
    "    \n",
    "    # find similar users\n",
    "    similar_users = find_similar_users(user_id)\n",
    "    \n",
    "    # find articles user has already seen\n",
    "    user_articles_id, user_articles_name = get_user_articles(user_id)\n",
    "    \n",
    "    # find article similar users have read (but user_id has not) up to 'm' articles\n",
    "    recs = []\n",
    "    for user in similar_users:\n",
    "        for article in get_user_articles(user)[1]:\n",
    "            if len(recs) < m:\n",
    "                if not article in user_articles_name:\n",
    "                    recs.append(article)      \n",
    "\n",
    "    return recs # return your recommendations for this user_id   "
   ]
  },
  {
   "cell_type": "code",
   "execution_count": 27,
   "id": "a7889a92",
   "metadata": {},
   "outputs": [
    {
     "data": {
      "text/plain": [
       "['deploy your python model as a restful api',\n",
       " 'using github for project control in dsx',\n",
       " 'programmatic evaluation using watson conversation',\n",
       " 'car performance data',\n",
       " 'deep learning with data science experience',\n",
       " 'awesome deep learning papers',\n",
       " 'visualize data with the matplotlib library',\n",
       " 'data science platforms are on the rise and ibm is leading the way',\n",
       " 'learn basics about notebooks and apache spark',\n",
       " 'from spark ml model to online scoring with scala']"
      ]
     },
     "execution_count": 27,
     "metadata": {},
     "output_type": "execute_result"
    }
   ],
   "source": [
    "# Check Results\n",
    "user_user_recs(1, 10) # Return 10 recommendations for user 1"
   ]
  },
  {
   "cell_type": "markdown",
   "id": "3809a260",
   "metadata": {},
   "source": [
    "<br>\n",
    "\n",
    "### Test"
   ]
  },
  {
   "cell_type": "code",
   "execution_count": 28,
   "id": "2ed7a3b9",
   "metadata": {},
   "outputs": [
    {
     "name": "stdout",
     "output_type": "stream",
     "text": [
      "If this is all you see, you passed all of our tests!  Nice job!\n"
     ]
    }
   ],
   "source": [
    "# Test your functions here - No need to change this code - just run this cell\n",
    "assert set(get_article_names(['1024.0', '1176.0', '1305.0', '1314.0', '1422.0', '1427.0'])) == set(['using deep learning to reconstruct high-resolution audio', 'build a python app on the streaming analytics service', 'gosales transactions for naive bayes model', 'healthcare python streaming application demo', 'use r dataframes & ibm watson natural language understanding', 'use xgboost, scikit-learn & ibm watson machine learning apis']), \"Oops! Your the get_article_names function doesn't work quite how we expect.\"\n",
    "assert set(get_article_names(['1320.0', '232.0', '844.0'])) == set(['housing (2015): united states demographic measures','self-service data preparation with ibm data refinery','use the cloudant-spark connector in python notebook']), \"Oops! Your the get_article_names function doesn't work quite how we expect.\"\n",
    "assert set(get_user_articles(20)[0]) == set(['1320.0', '232.0', '844.0'])\n",
    "assert set(get_user_articles(20)[1]) == set(['housing (2015): united states demographic measures', 'self-service data preparation with ibm data refinery','use the cloudant-spark connector in python notebook'])\n",
    "assert set(get_user_articles(2)[0]) == set(['1024.0', '1176.0', '1305.0', '1314.0', '1422.0', '1427.0'])\n",
    "assert set(get_user_articles(2)[1]) == set(['using deep learning to reconstruct high-resolution audio', 'build a python app on the streaming analytics service', 'gosales transactions for naive bayes model', 'healthcare python streaming application demo', 'use r dataframes & ibm watson natural language understanding', 'use xgboost, scikit-learn & ibm watson machine learning apis'])\n",
    "print(\"If this is all you see, you passed all of our tests!  Nice job!\")"
   ]
  },
  {
   "cell_type": "markdown",
   "id": "66c30859",
   "metadata": {},
   "source": [
    "<br>\n",
    "\n",
    "`4. Improve consistency of user_user_recs`\n",
    "* Instead of arbitarily choosing when we obtain users who are all the same closeness to a given user, choose the users that have the most total article interactions before choosing those with fewer article interactions\n",
    "* Instead of arbitrarly choosing articles from the user where the number of recommended articles starts below m and ends exceeding m, choose articles with the most total interactions before choosing those with fewer total interactions. This ranking can be obtained with the **top_articles** function wrote earlier."
   ]
  },
  {
   "cell_type": "code",
   "execution_count": 29,
   "id": "4cd235a0",
   "metadata": {},
   "outputs": [],
   "source": [
    "def get_top_sorted_users(user_id, df=df, user_item=user_item):\n",
    "    \"\"\"It find similar users, sorted by similarity and number of interactions \n",
    "    (num. articles viewed by user, if any)\n",
    "    Arguments:\n",
    "        user_id - (int) user id\n",
    "        df - (pandas dataframe) data containing user-article interactions\n",
    "        user_item - (pandas dataframe) matrix of users by articles \n",
    "                                        (1's = interaction | 0 otherwise)\n",
    "    Returns:\n",
    "        neighbors_df - (pandas dataframe) a dataframe with:\n",
    "                        neighbor_id - user_id of neighbor user\n",
    "                        similarity - measure of similarity between each user and provided user_id\n",
    "                        num_interactions - the number of articles viewed by the user\n",
    "    \"\"\"\n",
    "    \n",
    "    # Find similar users\n",
    "    # compute similarity between users using dot product\n",
    "    similarity = user_item.dot(user_item.T)\n",
    "    \n",
    "    # Get similar users to the provided user ('user_id')\n",
    "    similarity_user_id = similarity[user_id]\n",
    "    \n",
    "    # create dataframe with neighbor users, keeping neighbor id & similarity with provided user\n",
    "    neighbors_df = pd.DataFrame(similarity_user_id)\n",
    "    neighbors_df = neighbors_df.reset_index()\n",
    "    neighbors_df = neighbors_df.rename({'user_id':'neighbor_id',\n",
    "                                          user_id:'similarity'}, axis=1)\n",
    "    neighbors_df = neighbors_df.drop(neighbors_df[neighbors_df.neighbor_id == user_id].index)\n",
    "    \n",
    "    # add num_interactions to dataframe\n",
    "    num_interactions = []\n",
    "    for user in neighbors_df.neighbor_id:\n",
    "        num_interactions.append(len(df[df.user_id == user]))\n",
    "    neighbors_df['num_interactions'] = num_interactions        \n",
    "           \n",
    "    # sort neighbors by num_interactions\n",
    "    neighbors_df = neighbors_df.sort_values(by=['similarity', 'num_interactions'], ascending=False)\n",
    "    \n",
    "    return neighbors_df.reset_index(drop=True)"
   ]
  },
  {
   "cell_type": "code",
   "execution_count": 30,
   "id": "b42eaf06",
   "metadata": {},
   "outputs": [],
   "source": [
    "def user_user_recs(user_id, m=10):\n",
    "    \"\"\"Recommends 'm' articles to 'user_id' that they have not seen,\n",
    "    based on the similiary with other users and the articles they have read\n",
    "    Arguments:\n",
    "        user_id - (int) user id\n",
    "        m - (int) number of recommendations for the user\n",
    "    Returns:\n",
    "        recs - (list) list of recommendations for the user\"\"\"\n",
    "    \n",
    "    # find similar users\n",
    "    similar_users = find_similar_users(user_id)\n",
    "    \n",
    "    # find articles user has already seen\n",
    "    user_articles_id, user_articles_name = get_user_articles(user_id)\n",
    "    \n",
    "    # find article similar users have read (but user_id has not) up to 'm' articles\n",
    "    recs = []\n",
    "    for user in similar_users:\n",
    "        for article in get_user_articles(user)[1]:\n",
    "            if len(recs) < m:\n",
    "                if not article in user_articles_name:\n",
    "                    recs.append(article)      \n",
    "\n",
    "    return recs # return your recommendations for this user_id   "
   ]
  },
  {
   "cell_type": "code",
   "execution_count": 31,
   "id": "55d79ebc",
   "metadata": {},
   "outputs": [],
   "source": [
    "def user_user_recs_part2(user_id, m=10):\n",
    "    \"\"\"Finds up to 'm' recommendations for provided user_id based on similiarity with other users\n",
    "    Arguments:\n",
    "        user_id - (int) user id\n",
    "        m - (int) number of recommendations for the user\n",
    "    Returns:\n",
    "        recs_ids - (list) list of recommendations for the user by article id\n",
    "        recs_names - (list) list of recommendations for the user by article name\"\"\"\n",
    "    \n",
    "    # Find articles user has already seen\n",
    "    user_articles_id, user_articles_name = get_user_articles(user_id)\n",
    "    \n",
    "    # Find similar users\n",
    "    neighbors = get_top_sorted_users(user_id)\n",
    "    \n",
    "    # Find aricles that neighbors have read (but user_id has not) up to 'm' articles\n",
    "    recs_ids = []\n",
    "    for neighbor in neighbors.neighbor_id:\n",
    "        for new_article_id in get_user_articles(neighbor)[0]:\n",
    "            if len(recs_ids) < m:\n",
    "                if not new_article_id in user_articles_id:\n",
    "                    recs_ids.append(new_article_id)   \n",
    "\n",
    "    recs_names = get_article_names(recs_ids)\n",
    "        \n",
    "    return recs_ids, recs_names"
   ]
  },
  {
   "cell_type": "code",
   "execution_count": 32,
   "id": "e496f50c",
   "metadata": {},
   "outputs": [
    {
     "name": "stdout",
     "output_type": "stream",
     "text": [
      "The top 10 recommendations for user 20 are the following article ids:\n",
      "['12.0', '109.0', '125.0', '142.0', '164.0', '205.0', '302.0', '336.0', '362.0', '465.0']\n",
      "\n",
      "The top 10 recommendations for user 20 are the following article names:\n",
      "['tensorflow quick tips', 'timeseries data analysis of iot events by using jupyter notebook', 'learn tensorflow and deep learning together and now!', 'statistics for hackers', \"a beginner's guide to variational methods\", 'neural networks for beginners: popular types and applications', 'accelerate your workflow with dsx', 'dsx: hybrid mode', 'introduction to neural networks, advantages and applications', 'challenges in deep learning']\n"
     ]
    }
   ],
   "source": [
    "# Quick spot check\n",
    "rec_ids, rec_names = user_user_recs_part2(20, 10)\n",
    "print(\"The top 10 recommendations for user 20 are the following article ids:\")\n",
    "print(rec_ids)\n",
    "print()\n",
    "print(\"The top 10 recommendations for user 20 are the following article names:\")\n",
    "print(rec_names)"
   ]
  },
  {
   "cell_type": "markdown",
   "id": "6c86f232",
   "metadata": {},
   "source": [
    "<br>\n",
    "\n",
    "### Test\n",
    "\n",
    "`5. Test 'get_top_sorted_users' function`"
   ]
  },
  {
   "cell_type": "code",
   "execution_count": 33,
   "id": "85c164b9",
   "metadata": {},
   "outputs": [],
   "source": [
    "# Gets row with xth most similar user then selects first column (contains neighbor_id)\n",
    "user1_most_sim = get_top_sorted_users(1).iloc[0, 0]\n",
    "user131_10th_sim = get_top_sorted_users(131).iloc[9, 0]"
   ]
  },
  {
   "cell_type": "code",
   "execution_count": 34,
   "id": "207af646",
   "metadata": {},
   "outputs": [
    {
     "name": "stdout",
     "output_type": "stream",
     "text": [
      "This all looks good!  Nice job!\n"
     ]
    }
   ],
   "source": [
    "## Dictionary Test Here\n",
    "sol_5_dict = {\n",
    "    'The user that is most similar to user 1.': user1_most_sim, \n",
    "    'The user that is the 10th most similar to user 131': user131_10th_sim,\n",
    "}\n",
    "\n",
    "t.sol_5_test(sol_5_dict)"
   ]
  },
  {
   "cell_type": "markdown",
   "id": "7fe5d07d",
   "metadata": {},
   "source": [
    "<br>\n",
    "\n",
    "`6. How to make recommendations to a new user?`"
   ]
  },
  {
   "cell_type": "markdown",
   "id": "52365657",
   "metadata": {},
   "source": [
    "* We cannot use user-user based collaborative filtering with a new user, as we do not have enough data (Cold Start Problem)\n",
    "* In these cases, a good solution is to simply find recommendations using a ranking approach where the most popular articles are recommended\n",
    "* If the user provides some information, knowledge-based recommendations could be implemented by creating some kind of filter in top of the ranking system"
   ]
  },
  {
   "cell_type": "markdown",
   "id": "b5a366f8",
   "metadata": {},
   "source": [
    "<br>\n",
    "\n",
    "`7. Provide the Top 10 recommended articles for a new user`"
   ]
  },
  {
   "cell_type": "code",
   "execution_count": 35,
   "id": "09df6271",
   "metadata": {},
   "outputs": [],
   "source": [
    "new_user = '0.0'\n",
    "\n",
    "# What would your recommendations be for this new user '0.0'?  As a new user, they have no observed articles.\n",
    "# Provide a list of the top 10 article ids you would give to \n",
    "n = 10\n",
    "new_user_recs = get_top_articles_ids(n)\n",
    "new_user_recs = [str(id_) for id_ in new_user_recs]"
   ]
  },
  {
   "cell_type": "code",
   "execution_count": 36,
   "id": "1a75fbde",
   "metadata": {},
   "outputs": [
    {
     "name": "stdout",
     "output_type": "stream",
     "text": [
      "That's right!  Nice job!\n"
     ]
    }
   ],
   "source": [
    "assert set(new_user_recs) == set(['1314.0','1429.0','1293.0','1427.0','1162.0','1364.0','1304.0','1170.0','1431.0','1330.0']), \"Oops!  It makes sense that in this case we would want to recommend the most popular articles, because we don't know anything about these users.\"\n",
    "\n",
    "print(\"That's right!  Nice job!\")"
   ]
  },
  {
   "cell_type": "markdown",
   "id": "a1efb081",
   "metadata": {},
   "source": [
    "<br><hr>"
   ]
  },
  {
   "cell_type": "markdown",
   "id": "fdf91259",
   "metadata": {
    "tags": []
   },
   "source": [
    "# Part 4 - Content Based Recommendations \n",
    "## (Not Required)\n",
    "Another method we might use to make recommendations is to perform a ranking of the highest ranked articles associated with some term. You might consider content to be the doc_body, doc_description, or doc_full_name. There isn't one way to create a content based recommendation, especially considering that each of these columns hold content related information."
   ]
  },
  {
   "cell_type": "markdown",
   "id": "e178da3b",
   "metadata": {},
   "source": [
    "<br><hr>"
   ]
  },
  {
   "cell_type": "markdown",
   "id": "2b183f36",
   "metadata": {
    "tags": []
   },
   "source": [
    "# Part 5 - Matrix Factorization\n",
    "In this part of the notebook, I'll use matrix factorization to make article recommendations to the users on the IBM Watson Studio platform."
   ]
  },
  {
   "cell_type": "markdown",
   "id": "ddedc818",
   "metadata": {},
   "source": [
    "`1. Set-up`"
   ]
  },
  {
   "cell_type": "code",
   "execution_count": 37,
   "id": "ff8e1491",
   "metadata": {},
   "outputs": [],
   "source": [
    "# Load the matrix here\n",
    "user_item_matrix = pd.read_pickle('user_item_matrix.p')"
   ]
  },
  {
   "cell_type": "code",
   "execution_count": 38,
   "id": "2a2bcd42",
   "metadata": {},
   "outputs": [
    {
     "data": {
      "text/html": [
       "<div>\n",
       "<style scoped>\n",
       "    .dataframe tbody tr th:only-of-type {\n",
       "        vertical-align: middle;\n",
       "    }\n",
       "\n",
       "    .dataframe tbody tr th {\n",
       "        vertical-align: top;\n",
       "    }\n",
       "\n",
       "    .dataframe thead th {\n",
       "        text-align: right;\n",
       "    }\n",
       "</style>\n",
       "<table border=\"1\" class=\"dataframe\">\n",
       "  <thead>\n",
       "    <tr style=\"text-align: right;\">\n",
       "      <th>article_id</th>\n",
       "      <th>0.0</th>\n",
       "      <th>100.0</th>\n",
       "      <th>1000.0</th>\n",
       "      <th>1004.0</th>\n",
       "      <th>1006.0</th>\n",
       "      <th>1008.0</th>\n",
       "      <th>101.0</th>\n",
       "      <th>1014.0</th>\n",
       "      <th>1015.0</th>\n",
       "      <th>1016.0</th>\n",
       "      <th>...</th>\n",
       "      <th>977.0</th>\n",
       "      <th>98.0</th>\n",
       "      <th>981.0</th>\n",
       "      <th>984.0</th>\n",
       "      <th>985.0</th>\n",
       "      <th>986.0</th>\n",
       "      <th>990.0</th>\n",
       "      <th>993.0</th>\n",
       "      <th>996.0</th>\n",
       "      <th>997.0</th>\n",
       "    </tr>\n",
       "    <tr>\n",
       "      <th>user_id</th>\n",
       "      <th></th>\n",
       "      <th></th>\n",
       "      <th></th>\n",
       "      <th></th>\n",
       "      <th></th>\n",
       "      <th></th>\n",
       "      <th></th>\n",
       "      <th></th>\n",
       "      <th></th>\n",
       "      <th></th>\n",
       "      <th></th>\n",
       "      <th></th>\n",
       "      <th></th>\n",
       "      <th></th>\n",
       "      <th></th>\n",
       "      <th></th>\n",
       "      <th></th>\n",
       "      <th></th>\n",
       "      <th></th>\n",
       "      <th></th>\n",
       "      <th></th>\n",
       "    </tr>\n",
       "  </thead>\n",
       "  <tbody>\n",
       "    <tr>\n",
       "      <th>1</th>\n",
       "      <td>0.0</td>\n",
       "      <td>0.0</td>\n",
       "      <td>0.0</td>\n",
       "      <td>0.0</td>\n",
       "      <td>0.0</td>\n",
       "      <td>0.0</td>\n",
       "      <td>0.0</td>\n",
       "      <td>0.0</td>\n",
       "      <td>0.0</td>\n",
       "      <td>0.0</td>\n",
       "      <td>...</td>\n",
       "      <td>0.0</td>\n",
       "      <td>0.0</td>\n",
       "      <td>1.0</td>\n",
       "      <td>0.0</td>\n",
       "      <td>0.0</td>\n",
       "      <td>0.0</td>\n",
       "      <td>0.0</td>\n",
       "      <td>0.0</td>\n",
       "      <td>0.0</td>\n",
       "      <td>0.0</td>\n",
       "    </tr>\n",
       "    <tr>\n",
       "      <th>2</th>\n",
       "      <td>0.0</td>\n",
       "      <td>0.0</td>\n",
       "      <td>0.0</td>\n",
       "      <td>0.0</td>\n",
       "      <td>0.0</td>\n",
       "      <td>0.0</td>\n",
       "      <td>0.0</td>\n",
       "      <td>0.0</td>\n",
       "      <td>0.0</td>\n",
       "      <td>0.0</td>\n",
       "      <td>...</td>\n",
       "      <td>0.0</td>\n",
       "      <td>0.0</td>\n",
       "      <td>0.0</td>\n",
       "      <td>0.0</td>\n",
       "      <td>0.0</td>\n",
       "      <td>0.0</td>\n",
       "      <td>0.0</td>\n",
       "      <td>0.0</td>\n",
       "      <td>0.0</td>\n",
       "      <td>0.0</td>\n",
       "    </tr>\n",
       "    <tr>\n",
       "      <th>3</th>\n",
       "      <td>0.0</td>\n",
       "      <td>0.0</td>\n",
       "      <td>0.0</td>\n",
       "      <td>0.0</td>\n",
       "      <td>0.0</td>\n",
       "      <td>0.0</td>\n",
       "      <td>0.0</td>\n",
       "      <td>0.0</td>\n",
       "      <td>0.0</td>\n",
       "      <td>0.0</td>\n",
       "      <td>...</td>\n",
       "      <td>1.0</td>\n",
       "      <td>0.0</td>\n",
       "      <td>0.0</td>\n",
       "      <td>0.0</td>\n",
       "      <td>0.0</td>\n",
       "      <td>0.0</td>\n",
       "      <td>0.0</td>\n",
       "      <td>0.0</td>\n",
       "      <td>0.0</td>\n",
       "      <td>0.0</td>\n",
       "    </tr>\n",
       "    <tr>\n",
       "      <th>4</th>\n",
       "      <td>0.0</td>\n",
       "      <td>0.0</td>\n",
       "      <td>0.0</td>\n",
       "      <td>0.0</td>\n",
       "      <td>0.0</td>\n",
       "      <td>0.0</td>\n",
       "      <td>0.0</td>\n",
       "      <td>0.0</td>\n",
       "      <td>0.0</td>\n",
       "      <td>0.0</td>\n",
       "      <td>...</td>\n",
       "      <td>0.0</td>\n",
       "      <td>0.0</td>\n",
       "      <td>0.0</td>\n",
       "      <td>0.0</td>\n",
       "      <td>0.0</td>\n",
       "      <td>0.0</td>\n",
       "      <td>0.0</td>\n",
       "      <td>0.0</td>\n",
       "      <td>0.0</td>\n",
       "      <td>0.0</td>\n",
       "    </tr>\n",
       "    <tr>\n",
       "      <th>5</th>\n",
       "      <td>0.0</td>\n",
       "      <td>0.0</td>\n",
       "      <td>0.0</td>\n",
       "      <td>0.0</td>\n",
       "      <td>0.0</td>\n",
       "      <td>0.0</td>\n",
       "      <td>0.0</td>\n",
       "      <td>0.0</td>\n",
       "      <td>0.0</td>\n",
       "      <td>0.0</td>\n",
       "      <td>...</td>\n",
       "      <td>0.0</td>\n",
       "      <td>0.0</td>\n",
       "      <td>0.0</td>\n",
       "      <td>0.0</td>\n",
       "      <td>0.0</td>\n",
       "      <td>0.0</td>\n",
       "      <td>0.0</td>\n",
       "      <td>0.0</td>\n",
       "      <td>0.0</td>\n",
       "      <td>0.0</td>\n",
       "    </tr>\n",
       "  </tbody>\n",
       "</table>\n",
       "<p>5 rows × 714 columns</p>\n",
       "</div>"
      ],
      "text/plain": [
       "article_id  0.0  100.0  1000.0  1004.0  1006.0  1008.0  101.0  1014.0  1015.0  \\\n",
       "user_id                                                                         \n",
       "1           0.0    0.0     0.0     0.0     0.0     0.0    0.0     0.0     0.0   \n",
       "2           0.0    0.0     0.0     0.0     0.0     0.0    0.0     0.0     0.0   \n",
       "3           0.0    0.0     0.0     0.0     0.0     0.0    0.0     0.0     0.0   \n",
       "4           0.0    0.0     0.0     0.0     0.0     0.0    0.0     0.0     0.0   \n",
       "5           0.0    0.0     0.0     0.0     0.0     0.0    0.0     0.0     0.0   \n",
       "\n",
       "article_id  1016.0  ...  977.0  98.0  981.0  984.0  985.0  986.0  990.0  \\\n",
       "user_id             ...                                                   \n",
       "1              0.0  ...    0.0   0.0    1.0    0.0    0.0    0.0    0.0   \n",
       "2              0.0  ...    0.0   0.0    0.0    0.0    0.0    0.0    0.0   \n",
       "3              0.0  ...    1.0   0.0    0.0    0.0    0.0    0.0    0.0   \n",
       "4              0.0  ...    0.0   0.0    0.0    0.0    0.0    0.0    0.0   \n",
       "5              0.0  ...    0.0   0.0    0.0    0.0    0.0    0.0    0.0   \n",
       "\n",
       "article_id  993.0  996.0  997.0  \n",
       "user_id                          \n",
       "1             0.0    0.0    0.0  \n",
       "2             0.0    0.0    0.0  \n",
       "3             0.0    0.0    0.0  \n",
       "4             0.0    0.0    0.0  \n",
       "5             0.0    0.0    0.0  \n",
       "\n",
       "[5 rows x 714 columns]"
      ]
     },
     "execution_count": 38,
     "metadata": {},
     "output_type": "execute_result"
    }
   ],
   "source": [
    "# quick look at the matrix\n",
    "user_item_matrix.head()"
   ]
  },
  {
   "cell_type": "markdown",
   "id": "b511bb48",
   "metadata": {},
   "source": [
    "<br>\n",
    "\n",
    "`2. Use SVD on the user-item matrix`\n",
    "\n",
    "SVD, or Singular Value Decomposition, splits the user-item matrix into three matrices: $U \\Sigma V^T$\n",
    "\n",
    "* **$U$**: how users are related to latent features -> (n,k) ~ (users, latent features)\n",
    "* **$\\Sigma$**: how much each latent features (lf) matters in predicting user-item interactions -> (k,k) ~ (lf, lf)\n",
    "* **$V^T$**: how latent features are represented in the items -> (k, m) ~ (lf, items)\n",
    "\n",
    "With:\n",
    "* $n$: number of users\n",
    "* $k$: number of latent features\n",
    "* $m$: number of items\n",
    "\n",
    "\n",
    "[NumPy SVD](https://numpy.org/doc/stable/reference/generated/numpy.linalg.svd.html)"
   ]
  },
  {
   "cell_type": "code",
   "execution_count": 39,
   "id": "61905397",
   "metadata": {},
   "outputs": [
    {
     "data": {
      "text/plain": [
       "((5149, 5149), (714,), (714, 714))"
      ]
     },
     "execution_count": 39,
     "metadata": {},
     "output_type": "execute_result"
    }
   ],
   "source": [
    "u, s, vt = np.linalg.svd(user_item_matrix)\n",
    "u.shape, s.shape, vt.shape"
   ]
  },
  {
   "cell_type": "markdown",
   "id": "bd21beb9-07a6-4394-94b4-a08a36ba2a47",
   "metadata": {},
   "source": [
    "Here we can use the numpy SVD function as there are no missing values in our user-item matrix.\n",
    "\n",
    "If we had missing values, we should use the Funk SVD method."
   ]
  },
  {
   "cell_type": "markdown",
   "id": "905b84bc-341b-44b2-a57f-cf7c17b233f8",
   "metadata": {},
   "source": [
    "<br>\n",
    "\n",
    "`3. Testing the impact of latent features` \n",
    "\n",
    "How do we choose the number of latent features to use?  Running the below cell, you can see that as the number of latent features increases, we obtain a lower error rate on making predictions for the 1 and 0 values in the user-item matrix.  Run the cell below to get an idea of how the accuracy improves as we increase the number of latent features."
   ]
  },
  {
   "cell_type": "code",
   "execution_count": 40,
   "id": "778a26f9-7281-4441-952e-4b5f0b2ad47a",
   "metadata": {},
   "outputs": [
    {
     "data": {
      "image/png": "[encoded data removed]",
      "text/plain": [
       "<Figure size 576x288 with 1 Axes>"
      ]
     },
     "metadata": {},
     "output_type": "display_data"
    }
   ],
   "source": [
    "num_latent_feats = np.arange(10,700+10,20)\n",
    "sum_errs = []\n",
    "\n",
    "for k in num_latent_feats:\n",
    "    # restructure with k latent features\n",
    "    s_new, u_new, vt_new = np.diag(s[:k]), u[:, :k], vt[:k, :]\n",
    "    \n",
    "    # take dot product\n",
    "    user_item_est = np.around(np.dot(np.dot(u_new, s_new), vt_new))\n",
    "    \n",
    "    # compute error for each prediction to actual value\n",
    "    diffs = np.subtract(user_item_matrix, user_item_est)\n",
    "    \n",
    "    # total errors and keep track of them\n",
    "    err = np.sum(np.sum(np.abs(diffs)))\n",
    "    sum_errs.append(err)\n",
    "    \n",
    "    \n",
    "plt.figure(figsize=(8,4))    \n",
    "plt.plot(num_latent_feats, 1 - np.array(sum_errs)/df.shape[0]);\n",
    "plt.xlabel('Number of Latent Features');\n",
    "plt.ylabel('Accuracy');\n",
    "plt.title('Accuracy vs. Number of Latent Features', weight='bold', size=17);"
   ]
  },
  {
   "cell_type": "markdown",
   "id": "11e0893d-8755-4d29-837e-86f6f014d812",
   "metadata": {},
   "source": [
    "<br>\n",
    "\n",
    "`4. Splitting the data: training and test sets ` \n",
    "\n",
    "From the above, we can't really be sure how many features to use, because simply having a better way to predict the 1's and 0's of the matrix doesn't exactly give us an indication of if we are able to make good recommendations.  Instead, we might split our dataset into a training and test set of data, as shown in the cell below.  "
   ]
  },
  {
   "cell_type": "code",
   "execution_count": 41,
   "id": "8091fa93-1922-4219-9963-fa06518e416c",
   "metadata": {},
   "outputs": [],
   "source": [
    "df_train = df.head(40000)\n",
    "df_test = df.tail(5993)\n",
    "\n",
    "def create_test_and_train_user_item(df_train, df_test):\n",
    "    \"\"\"\n",
    "    Arguments:\n",
    "        df_train - (pandas dataframe) training dataframe\n",
    "        df_test - (pandas dataframe) test dataframe\n",
    "    Returns:\n",
    "        user_item_train - (pandas dataframe) a user-item matrix of the training dataframe\n",
    "                         (unique users for each row and unique articles for each column)\n",
    "        user_item_test - (pandas dataframe)  a user-item matrix of the testing dataframe\n",
    "                        (unique users for each row and unique articles for each column)\n",
    "        test_idx - (numpy array) all of the test user ids\n",
    "        test_arts - (numpy array) all of the test article ids\n",
    "    \"\"\"\n",
    "    # Create user_item matrix\n",
    "    user_item_train = create_user_item_matrix(df_train)\n",
    "    user_item_test = create_user_item_matrix(df_test)\n",
    "    \n",
    "    # Save user id and article id as np array\n",
    "    test_idx = df_test.user_id.values\n",
    "    test_arts = df_test.article_id.values\n",
    "    \n",
    "    \n",
    "    return user_item_train, user_item_test, test_idx, test_arts\n",
    "\n",
    "user_item_train, user_item_test, test_idx, test_arts = create_test_and_train_user_item(df_train, df_test)"
   ]
  },
  {
   "cell_type": "code",
   "execution_count": 42,
   "id": "5aba8b0c-2e0e-4e57-a0c9-32ee438d4ca9",
   "metadata": {},
   "outputs": [
    {
     "data": {
      "text/plain": [
       "((4487, 714), (682, 574), (5993,), (5993,))"
      ]
     },
     "execution_count": 42,
     "metadata": {},
     "output_type": "execute_result"
    }
   ],
   "source": [
    "user_item_train.shape, user_item_test.shape, test_idx.shape, test_arts.shape"
   ]
  },
  {
   "cell_type": "code",
   "execution_count": 43,
   "id": "04155904-8852-493b-8180-8139524c6214",
   "metadata": {},
   "outputs": [
    {
     "data": {
      "text/plain": [
       "20"
      ]
     },
     "execution_count": 43,
     "metadata": {},
     "output_type": "execute_result"
    }
   ],
   "source": [
    "# How many users can we make predictions for in the test set?\n",
    "common_users_idx = np.intersect1d(user_item_train.index, test_idx)\n",
    "len(common_users_idx)"
   ]
  },
  {
   "cell_type": "code",
   "execution_count": 44,
   "id": "e3c7cdec-cd46-4f27-953e-089ba7a9c313",
   "metadata": {},
   "outputs": [
    {
     "data": {
      "text/plain": [
       "662"
      ]
     },
     "execution_count": 44,
     "metadata": {},
     "output_type": "execute_result"
    }
   ],
   "source": [
    "# How many users in the test set are we not able to make predictions for because of the cold start problem?\n",
    "n_new_users = user_item_test.shape[0] - len(common_users_idx)\n",
    "n_new_users"
   ]
  },
  {
   "cell_type": "code",
   "execution_count": 45,
   "id": "64649394-2479-46ae-b57f-9124c3e793ef",
   "metadata": {},
   "outputs": [
    {
     "data": {
      "text/plain": [
       "574"
      ]
     },
     "execution_count": 45,
     "metadata": {},
     "output_type": "execute_result"
    }
   ],
   "source": [
    "# How many articles can we make predictions for in the test set?\n",
    "common_arts_idx = np.intersect1d(user_item_train.columns, test_arts)\n",
    "len(common_arts_idx)"
   ]
  },
  {
   "cell_type": "code",
   "execution_count": 46,
   "id": "bdf77b2d-3de4-4b37-b169-39f2e0af2591",
   "metadata": {},
   "outputs": [
    {
     "data": {
      "text/plain": [
       "0"
      ]
     },
     "execution_count": 46,
     "metadata": {},
     "output_type": "execute_result"
    }
   ],
   "source": [
    "# How many articles in the test set are we not able to make predictions for because of the cold start problem?\n",
    "n_new_arts = user_item_test.shape[1] - len(common_arts_idx)\n",
    "n_new_arts"
   ]
  },
  {
   "cell_type": "markdown",
   "id": "d6fe6641-6ab3-4282-ad62-752594faeae0",
   "metadata": {
    "jp-MarkdownHeadingCollapsed": true,
    "tags": []
   },
   "source": [
    "Note for the reviewer: Without changing \"articles\" to \"movies\" in 'sol_4_dict' it leads to a KeyError...\n",
    "\n",
    "<!-- I had to take a peak at the test script because I kept having a key error.\n",
    "The keys that you provide in this sol_4_dict have the word \"articles\", but in your test script it says \"movies\"\n",
    "and that leads to a KeyError: \n",
    "`KeyError: 'How many movies can we make predictions for in the test set?'`\n",
    "\n",
    "I had to change the word here to be able to pass the test\n",
    "You should modify the test script, as here we are not recommending movies\n",
    " -->\n",
    "\n",
    "<!-- # Replace the values in the dictionary below\n",
    "a = 662 \n",
    "b = 574 \n",
    "c = 20 \n",
    "d = 0 \n",
    "\n",
    "\n",
    "sol_4_dict = {\n",
    "    'How many users can we make predictions for in the test set?': c, \n",
    "    'How many users in the test set are we not able to make predictions for because of the cold start problem?': a, \n",
    "    'How many articles can we make predictions for in the test set?': b,\n",
    "    'How many articles in the test set are we not able to make predictions for because of the cold start problem?': d\n",
    "}\n",
    "\n",
    "t.sol_4_test(sol_4_dict) -->"
   ]
  },
  {
   "cell_type": "code",
   "execution_count": 47,
   "id": "a853dc8e-66a0-459a-891a-07467e7e2f08",
   "metadata": {},
   "outputs": [
    {
     "name": "stdout",
     "output_type": "stream",
     "text": [
      "Awesome job!  That's right!  All of the test movies are in the training data, but there are only 20 test users that were also in the training set.  All of the other users that are in the test set we have no data on.  Therefore, we cannot make predictions for these users using SVD.\n"
     ]
    }
   ],
   "source": [
    "# Replace the values in the dictionary below\n",
    "a = 662 \n",
    "b = 574 \n",
    "c = 20 \n",
    "d = 0 \n",
    "\n",
    "sol_4_dict = {\n",
    "    'How many users can we make predictions for in the test set?': c, \n",
    "    'How many users in the test set are we not able to make predictions for because of the cold start problem?': a, \n",
    "    'How many movies can we make predictions for in the test set?': b,\n",
    "    'How many movies in the test set are we not able to make predictions for because of the cold start problem?': d\n",
    "}\n",
    "\n",
    "t.sol_4_test(sol_4_dict)"
   ]
  },
  {
   "cell_type": "markdown",
   "id": "ab4f2945-25c5-43db-b30f-b20d7a1cc3e5",
   "metadata": {},
   "source": [
    "<br>"
   ]
  },
  {
   "cell_type": "markdown",
   "id": "6fded5ea-227f-40b0-be22-03ab2add1517",
   "metadata": {},
   "source": [
    "`5. Finding the optimal number of latent features based on the accuracy on the test data` "
   ]
  },
  {
   "cell_type": "code",
   "execution_count": 48,
   "id": "4c206953-4d3a-4a56-97b1-2eccbf980369",
   "metadata": {},
   "outputs": [
    {
     "data": {
      "text/plain": [
       "((4487, 4487), (714,), (714, 714))"
      ]
     },
     "execution_count": 48,
     "metadata": {},
     "output_type": "execute_result"
    }
   ],
   "source": [
    "# fit SVD on the user_item_train matrix\n",
    "u_train, s_train, vt_train = np.linalg.svd(user_item_train)\n",
    "u_train.shape, s_train.shape, vt_train.shape"
   ]
  },
  {
   "cell_type": "code",
   "execution_count": 49,
   "id": "fe29f04c-ede6-4140-a3c3-dd53e08aeb40",
   "metadata": {},
   "outputs": [],
   "source": [
    "# Find the subset of rows in the user_item_test on which we can predict\n",
    "sub_user_item_test = user_item_test.loc[common_users_idx]"
   ]
  },
  {
   "cell_type": "code",
   "execution_count": 50,
   "id": "eba01f78-7344-49d5-b942-1b39964aa058",
   "metadata": {},
   "outputs": [],
   "source": [
    "# the 'u', 's', vt' matrices do not have indices values, thus to know what rows are in common between\n",
    "# train and test sets, we need to keep \"True\" / \"False\" values instead of actual indices values\n",
    "common_users = user_item_train.index.isin(test_idx)\n",
    "common_arts = user_item_train.columns.isin(test_arts)\n",
    "\n",
    "u_test = u_train[common_users, :]\n",
    "vt_test = vt_train[:, common_arts]"
   ]
  },
  {
   "cell_type": "code",
   "execution_count": 51,
   "id": "a682cf58-9df7-4d25-89a6-aba7e315a780",
   "metadata": {},
   "outputs": [],
   "source": [
    "num_latent_feats = np.arange(10,700+10,20)\n",
    "sum_train_errs = []\n",
    "sum_test_errs = []\n",
    "\n",
    "for k in num_latent_feats:\n",
    "    # restructure with k latent features\n",
    "    s_train_new, u_train_new, vt_train_new = np.diag(s_train[:k]), u_train[:, :k], vt_train[:k, :]\n",
    "    u_test_new, vt_test_new = u_test[:, :k], vt_test[:k, :]\n",
    "    \n",
    "    # take dot product = prediction\n",
    "    train_user_item_pred = np.around(np.dot(np.dot(u_train_new, s_train_new), vt_train_new))\n",
    "    test_user_item_pred = np.around(np.dot(np.dot(u_test_new, s_train_new), vt_test_new))\n",
    "    \n",
    "    # compute error for each prediction to actual value\n",
    "    train_diffs = np.subtract(user_item_train, train_user_item_pred)\n",
    "    test_diffs = np.subtract(sub_user_item_test, test_user_item_pred)\n",
    "    \n",
    "    # total errors and keep track of them\n",
    "    train_errors = np.sum(np.sum(np.abs(train_diffs)))\n",
    "    test_errors = np.sum(np.sum(np.abs(test_diffs)))\n",
    "    \n",
    "    sum_train_errs.append(train_errors)\n",
    "    sum_test_errs.append(test_errors)"
   ]
  },
  {
   "cell_type": "code",
   "execution_count": 52,
   "id": "01d1b04a-67bb-43c5-a445-e1e6b7ae21ff",
   "metadata": {},
   "outputs": [
    {
     "data": {
      "image/png": "[encoded data removed]",
      "text/plain": [
       "<Figure size 576x288 with 1 Axes>"
      ]
     },
     "metadata": {},
     "output_type": "display_data"
    }
   ],
   "source": [
    "plt.figure(figsize=(8,4))    \n",
    "plt.plot(num_latent_feats, 1 - np.array(sum_train_errs)/user_item_train.size, label='Train')\n",
    "plt.plot(num_latent_feats, 1 - np.array(sum_test_errs)/sub_user_item_test.size, label='Test')\n",
    "plt.xlabel('Number of Latent Features')\n",
    "plt.ylabel('Accuracy')\n",
    "plt.title('Accuracy vs. Number of Latent Features', weight='bold', size=17)\n",
    "plt.legend()\n",
    "plt.show()"
   ]
  },
  {
   "cell_type": "markdown",
   "id": "d5798142-c020-4e76-a76c-a59a1573a273",
   "metadata": {},
   "source": [
    "<br>\n",
    "\n",
    "`6. Discuss results` \n",
    "\n",
    "What might be done to determine if the recommendations made with any of the above recommendation systems are an improvement to how users currently find articles? "
   ]
  },
  {
   "cell_type": "markdown",
   "id": "6d17b21b-a2cb-4d22-9c9f-9e4477d0e630",
   "metadata": {},
   "source": [
    "* We cannot test the impact of our rank-based recommendations nor our user-user based collaborative filtering and, due to the Cold Start Problem, we can only test our recommendations using matrix factorization on a small proportion of users\n",
    "* To determine if the recommendations are an improvement, we can apply A/B testing and chose metrics to monitor to see if they increase by applying these recommendations. For example, we could measure if users with that have article recommendations spend more time on the platform, or more time reading the articles "
   ]
  },
  {
   "cell_type": "code",
   "execution_count": null,
   "id": "15c744b8-0948-4285-ac45-8cf028abf513",
   "metadata": {},
   "outputs": [],
   "source": []
  }
 ],
 "metadata": {
  "kernelspec": {
   "display_name": "Python 3 (ipykernel)",
   "language": "python",
   "name": "python3"
  },
  "language_info": {
   "codemirror_mode": {
    "name": "ipython",
    "version": 3
   },
   "file_extension": ".py",
   "mimetype": "text/x-python",
   "name": "python",
   "nbconvert_exporter": "python",
   "pygments_lexer": "ipython3",
   "version": "3.9.7"
  }
 },
 "nbformat": 4,
 "nbformat_minor": 5
}
